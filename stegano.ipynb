{
 "cells": [
  {
   "cell_type": "code",
   "execution_count": 96,
   "metadata": {},
   "outputs": [],
   "source": [
    "from PIL import Image\n",
    "import numpy as np\n",
    "import math\n",
    "\n",
    "def text_to_image(text, image_name):\n",
    "  grayscale_values = atoi(text)\n",
    "\n",
    "  length = len(grayscale_values)\n",
    "  side_length = math.ceil(math.sqrt(length))\n",
    "\n",
    "  while len(grayscale_values) < side_length ** 2:\n",
    "    grayscale_values.append(255)\n",
    "\n",
    "  grayscale_arr = np.array(grayscale_values, dtype=np.uint8)\n",
    "  image_arr = grayscale_arr.reshape((side_length, side_length))\n",
    "\n",
    "  img = Image.fromarray(image_arr, 'L')\n",
    "  img.save(f'{image_name}.png')\n",
    "  print(f\"Image saved as {image_name}.png\")\n",
    "\n",
    "def read_image(image_name):\n",
    "  img = Image.open(image_name)\n",
    "  img_arr = np.array(img)\n",
    "  return [x for x in img_arr.flatten()]\n",
    "\n",
    "def lsb_encode(text, image_path, image_name='image'):\n",
    "  text_num = [ord(x) for x in text] \n",
    "  text_chunk = []\n",
    "  \n",
    "  for num in text_num:\n",
    "    chunk = []\n",
    "    while num > 0:\n",
    "      chunk.append(num & 0b11)\n",
    "      num >>= 2\n",
    "    while len(chunk) < 4:  # Divide each number to 4 chunks 2 bits per chunk\n",
    "      chunk.append(0)  # Pad with zeros\n",
    "    text_chunk.extend(reversed(chunk))\n",
    "\n",
    "  terminator = [1, 3, 3, 3]\n",
    "  text_chunk.extend(terminator)\n",
    "\n",
    "  image = Image.open(image_path).convert('RGB')\n",
    "  image_arr = np.array(image)\n",
    "  height, width = image_arr.shape[:2]\n",
    "\n",
    "  if len(text_chunk) > height * width * (3 if image_arr.ndim == 3 else 1):\n",
    "    print('Image is too small!')\n",
    "    return None\n",
    "\n",
    "  if image_arr.ndim == 3: # RGB\n",
    "    for i in range(len(text_chunk)):\n",
    "      pixel_index = i // 3  # Each pixel has 3 channels (R, G, B)\n",
    "      channel_index = i % 3  # Cycle through 0 (R), 1 (G), 2 (B)\n",
    "\n",
    "      row = pixel_index // width\n",
    "      col = pixel_index % width\n",
    "\n",
    "      image_arr[row, col, channel_index] &= 0b11111100\n",
    "      image_arr[row, col, channel_index] |= text_chunk[i]\n",
    "  else:  # Grayscale\n",
    "    for i in range(len(text_chunk)):\n",
    "      row = i // width\n",
    "      col = i % width\n",
    "      image_arr[row, col] &= 0b11111100\n",
    "      image_arr[row, col] |= text_chunk[i]\n",
    "\n",
    "  img = Image.fromarray(image_arr.astype(np.uint8), 'RGB' if image_arr.ndim == 3 else 'L')\n",
    "  img.save(f'{image_name}.png')\n",
    "  print(f\"Image saved as {image_name}.png\")\n",
    "\n",
    "def lsb_decode(image_path):\n",
    "  text_chunk = read_image(image_path)\n",
    "  text_chunk = [x & 0b11 for x in text_chunk]\n",
    "  text = list()\n",
    "\n",
    "  for i in range(len(text_chunk)):\n",
    "    text_idx = i // 4\n",
    "    if text_idx >= len(text):\n",
    "      text.append(0)\n",
    "    text[text_idx] += text_chunk[i] << (6 - (i % 4) * 2)\n",
    "    \n",
    "    if i % 4 == 3 and text[text_idx] == 127:  # Null terminator check\n",
    "      break\n",
    "\n",
    "  return text[:-1]\n",
    "\n",
    "def itoa(i_arr):\n",
    "  c_arr = [chr(num) for num in i_arr]\n",
    "  return ''.join(c_arr)\n",
    "\n",
    "def atoi(c_arr):\n",
    "  return [ord(char) for char in c_arr]\n"
   ]
  },
  {
   "cell_type": "code",
   "execution_count": 12,
   "metadata": {},
   "outputs": [
    {
     "name": "stdout",
     "output_type": "stream",
     "text": [
      "Image saved as hello.png\n"
     ]
    }
   ],
   "source": [
    "text = str(input(\"Hidden text: \"))\n",
    "image_name = str(input('Image name (No Extension): '))\n",
    "text_to_image(text, image_name)"
   ]
  },
  {
   "cell_type": "code",
   "execution_count": 97,
   "metadata": {},
   "outputs": [
    {
     "name": "stdout",
     "output_type": "stream",
     "text": [
      "Image saved as bird.png\n"
     ]
    }
   ],
   "source": [
    "lsb_encode('helloworld!234', 'hqdefault.jpg', 'bird')"
   ]
  },
  {
   "cell_type": "code",
   "execution_count": 99,
   "metadata": {},
   "outputs": [
    {
     "name": "stdout",
     "output_type": "stream",
     "text": [
      "florentino\n"
     ]
    }
   ],
   "source": [
    "a = lsb_decode('florentino.png')\n",
    "a = itoa(a)\n",
    "print(a)"
   ]
  }
 ],
 "metadata": {
  "kernelspec": {
   "display_name": "Python 3",
   "language": "python",
   "name": "python3"
  },
  "language_info": {
   "codemirror_mode": {
    "name": "ipython",
    "version": 3
   },
   "file_extension": ".py",
   "mimetype": "text/x-python",
   "name": "python",
   "nbconvert_exporter": "python",
   "pygments_lexer": "ipython3",
   "version": "3.11.0"
  }
 },
 "nbformat": 4,
 "nbformat_minor": 2
}
